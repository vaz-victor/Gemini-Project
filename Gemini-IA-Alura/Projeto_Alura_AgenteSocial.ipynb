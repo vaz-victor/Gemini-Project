{
  "nbformat": 4,
  "nbformat_minor": 0,
  "metadata": {
    "colab": {
      "provenance": []
    },
    "kernelspec": {
      "name": "python3",
      "display_name": "Python 3"
    },
    "language_info": {
      "name": "python"
    }
  },
  "cells": [
    {
      "cell_type": "code",
      "execution_count": null,
      "metadata": {
        "id": "oHY57unP13JS"
      },
      "outputs": [],
      "source": [
        "#Instalando a biblioteca que providência acesso aos modelos generativos de IA Google\n",
        "#-q é um comando que vem do \"quiet\", onde a execução do bloco não irá renderizar muitas coisas, fazendo com quea interface fique mais limpa\n",
        "!pip -q install google-genai"
      ]
    },
    {
      "cell_type": "code",
      "source": [
        "#Configurando a API Key do Google AI Studio no código\n",
        "#importando módulos do OS que permite acessar componentes do sistema operação, como por exemplo, variáveis do sistema\n",
        "import os\n",
        "#importando função userdata do modulo do google Colab - Especificamente pra poder coletar e trabalhar com dados sensíveis, exemplo a API Key que guardamos no secret\n",
        "from google.colab import userdata\n",
        "#atribuindo a variável do sistema o valor da API Key que guardamos no Secrets aqui no Colab\n",
        "os.environ[\"GOOGLE_API_KEY\"] = userdata.get('GOOGLE_API_KEY')"
      ],
      "metadata": {
        "id": "_Ke4gk0C4EUw"
      },
      "execution_count": null,
      "outputs": []
    },
    {
      "cell_type": "code",
      "source": [
        "#Configurando o SDK do Gemini\n",
        "#importando o módulo genai do pacote google\n",
        "from google import genai\n",
        "#criando uma instância para fazer requisiçõesà API do Google\n",
        "client = genai.Client()\n",
        "#Definindo qual o modelo de IA vamos usar e armazenando em uma variável para não precisarmos escrever o modelo toda vez que precisar\n",
        "IA_Model = 'gemini-2.0-flash'"
      ],
      "metadata": {
        "id": "xnSIoaJB2s59"
      },
      "execution_count": null,
      "outputs": []
    },
    {
      "cell_type": "code",
      "source": [
        "#Importando funcionalidade HTML e Markdown do módulo IPython\n",
        "#HTML e Markdown são puramente funções visuais, que ajudam a fazer com que o notebook renderize o conteúdo com um visual melhor - para HTML e para textos formatados, por exemplo.\n",
        "from IPython.display import HTML, Markdown"
      ],
      "metadata": {
        "id": "87fPtZYu53vc"
      },
      "execution_count": null,
      "outputs": []
    },
    {
      "cell_type": "code",
      "source": [
        "#executando o pip diferente, com % ao invés de ! - Ambos funcionam.\n",
        "#Instalando o Framework ADK (Agents Development Kit) do Google\n",
        "%pip -q install google-adk"
      ],
      "metadata": {
        "id": "kWBiSUeM76iO"
      },
      "execution_count": null,
      "outputs": []
    },
    {
      "cell_type": "code",
      "source": [
        "#Importando algumas funcionalidades do ADK para criar uma esteira de agentes.\n",
        "#Importando o Agent que será responsável pela realização das ações e interações com o modelo de IA\n",
        "from google.adk.agents import Agent\n",
        "#Importando o Runner que será responsável pela orquestração das interações e múltiplos agentes.\n",
        "from google.adk.runners import Runner\n",
        "#Importando o MemoryService que será responsável por garantir o histórico e o contexto da conversa dentro de uma única execução.\n",
        "from google.adk.sessions import InMemorySessionService\n",
        "#Importando a função google_search que vai permitir os agentes a usar a busca do Google e porencializar os resultados\n",
        "from google.adk.tools import google_search\n",
        "#Importando o módulo types que será usado para representar diferentes tipos de conteúdo ou partes de conteúdo ao interagir com a API de IA.\n",
        "from google.genai import types\n",
        "#Importando a classe date para trabalhar com datas e horas\n",
        "from datetime import date\n",
        "#Importando o módulo textwrap, responsável por funções de quebra e formatação de texto simples - Melhora a identação da resposta para tornar o texto mais legível.\n",
        "import textwrap\n",
        "#Importando a biblioteca requests para interagir com serviços web, APIs ou serviços externos\n",
        "import requests\n",
        "#Importando o módulo warnings com a linha de baixo controlando como os avisos são tratados no ambiente. Ignore significa que os alertas serão suprimidos e não exibidos no output.\n",
        "import warnings\n",
        "warnings.filterwarnings(\"ignore\")"
      ],
      "metadata": {
        "id": "BLbuLyzS8Ytu"
      },
      "execution_count": null,
      "outputs": []
    },
    {
      "cell_type": "code",
      "source": [
        "#Criando uma função que vai enviar uma mensagem para um agente via Runner e retornar a resposta final\n",
        "#call_agent espera receber o Agent e a mensagem. str indica que a função deve retornar uma string (texto)\n",
        "def call_agent(agent: Agent, message_text: str) -> str:\n",
        "    # Cria um serviço de sessão em memória\n",
        "    session_service = InMemorySessionService()\n",
        "    # Cria uma nova sessão (você pode personalizar os IDs conforme necessário)\n",
        "    session = session_service.create_session(app_name=agent.name, user_id=\"user1\", session_id=\"session1\")\n",
        "    # Cria um Runner para o agente\n",
        "    runner = Runner(agent=agent, app_name=agent.name, session_service=session_service)\n",
        "    # Cria o conteúdo da mensagem de entrada\n",
        "    content = types.Content(role=\"user\", parts=[types.Part(text=message_text)])\n",
        "\n",
        "    #definindo a variável final_response com um valor em branco, para concatenarmos as partes do texto nela e exibi-la futuramente.\n",
        "    final_response = \"\"\n",
        "\n",
        "    #Loop for iniciado para iterar os eventos retornados durante a execução do agente\n",
        "    #runner.run() é a função que executa o agente, com um ID de usuário e Sessão e o conteúdo da mensagem.\n",
        "    for event in runner.run(user_id=\"user1\", session_id=\"session1\", new_message=content):\n",
        "        #verificação se é a resposta final. Validação feita por true ou false. True representa que o agente concluiu o processamento e está fornecendo a resposta final.\n",
        "        if event.is_final_response():\n",
        "          #Se o evento for a resposta final, esse loop vai iterar sobre as diferentes partes do conteúdo da resposta - podendo ser texto, imagens, etc\n",
        "          for part in event.content.parts:\n",
        "            #Essa linha verifica se a parte atual (part) contém texto, garantindo que estamos lidando apenas com partes que contém alguma coisa.\n",
        "            if part.text is not None:\n",
        "              #se a parte tiver texto, adicionamos à variável final_response. O operador += é que faz isso. \\n quebra linha.\n",
        "              final_response += part.text\n",
        "              final_response += \"\\n\"\n",
        "    #retorna a resposta final acumulada do agente.\n",
        "    return final_response"
      ],
      "metadata": {
        "id": "8MQuR9Kx_hfs"
      },
      "execution_count": null,
      "outputs": []
    },
    {
      "cell_type": "code",
      "source": [
        "#Criando uma função chamada to_markdown, que receberá um texto, para que ele possa ser exibido de forma agradável em um ambiente Jupyter Notebook\n",
        "def to_markdown(text):\n",
        "  #Modifica o texto de entrada, quaisquer marcadores de lista (bullet points) representados pelo caractere '•' por ' *'\n",
        "  text = text.replace('•', '  *')\n",
        "  #textwrap.indent(text, '> ', predicate=lambda _: True): Esta parte usa a função indent do módulo textwrap. Ela indenta cada linha do text de entrada com o prefixo '> '. Esta é uma maneira comum de formatar citações em Markdown. O predicate=lambda _: True garante que todas as linhas sejam indentadas, não apenas algumas específicas.\n",
        "  #Markdown(...): A saída da função textwrap.indent (o texto indentado) é então envolvida na função Markdown. Esta função, importada de IPython.display, instrui o ambiente Jupyter Notebook a interpretar a string contida como Markdown e renderizá-la de acordo.\n",
        "  return Markdown(textwrap.indent(text, '> ', predicate=lambda _: True))"
      ],
      "metadata": {
        "id": "vZdiUTozCK_1"
      },
      "execution_count": null,
      "outputs": []
    },
    {
      "cell_type": "code",
      "source": [
        "# --- Agente 1: Pesquisador de Projetos Sociais --- #\n",
        "#Criando o primeiro Agent chamado pesquisador_social, que espera receber 2 parametros: Localização e Data\n",
        "def pesquisador_social(localizacao, data_de_hoje):\n",
        "\n",
        "    #Atribui à variável pesquisador, o objeto agente com os parametros nome, modelo de IA, descrição, ferramentas e instrução.\n",
        "    pesquisador = Agent(\n",
        "        name=\"pesquisador_social\",\n",
        "        model=\"gemini-2.0-flash\",\n",
        "        description=\"agente que pesquisa sobre ações sociais na região\",\n",
        "        tools=[google_search],\n",
        "        instruction=\"\"\"Você é um especialista em projetos sociais. Sua responsabilidade é identificar a região e estudar sobre\n",
        "        os possíveis projetos sociais, voluntariado, ações sociais etc. que podem estar acontecendo na região.\n",
        "        Você deve retornar uma lista com os projetos encontrados. Caso existam inscrições, fornecer data de abertura e data limite também.\n",
        "        Preciso que você também de sugestões de possíveis projetos sociais para se criar na região, baseado no que foi encontrado e o que não foi encontrado, mas que gerariam impacto para a população.\n",
        "        Caso não encontre nenhum projeto, retorne uma mensagem informando que não encontrou nenhum projeto.\n",
        "        \"\"\"\n",
        "    )\n",
        "\n",
        "    #Armazenando na variável entrada_para_pesquisa o que for digitado pelo usuário para localização e a data de hoje\n",
        "    entrada_para_pesquisa = f\"Localização: {localizacao}\\n Data de hoje: {data_de_hoje}\"\n",
        "\n",
        "    #Armazena na variável projetos a resposta da IA depois de receber a localização e a data e pesquisar sobre o assunto.\n",
        "    projetos_achados = call_agent(pesquisador, entrada_para_pesquisa)\n",
        "    #Retorna o valor obtido na variável\n",
        "    return projetos_achados"
      ],
      "metadata": {
        "id": "DGJpGNpUC7DC"
      },
      "execution_count": null,
      "outputs": []
    },
    {
      "cell_type": "code",
      "source": [
        "# --- Agente 2: Organizador de Projetos Sociais --- #\n",
        "#Criando o segundo Agent chamado organizador_social, que espera receber 2 parametros: Localização e Projetos (vindo do agente anterior)\n",
        "def organizador_social(localizacao, projetos_achados):\n",
        "\n",
        "    #Atribui à variável organizador, o objeto agente com os parametros nome, modelo de IA, descrição, ferramentas e instrução.\n",
        "    organizador = Agent(\n",
        "        name=\"organizador_social\",\n",
        "        model=\"gemini-2.0-flash\",\n",
        "        description=\"organiza e filtra a lista de projetos encontrados\",\n",
        "        tools=[google_search],\n",
        "        instruction=\"\"\"Você é um organizador de projetos sociais. Sua responsabilidade é receber os projetos encontrados, analisar e filtrá-los por área\n",
        "        para que o usuário consiga localizar, de forma clara, quais projetos fazem mais sentido pra ele. Você deve retornar uma lista com os projetos encontrados, filtrados por área, com título, descrição, se possível incluir telefone para contato com os responsáveis.\n",
        "        Caso exista, aplique também as datas necessárias, como data de abertura e data limite de inscrição.\n",
        "        \"\"\"\n",
        "    )\n",
        "\n",
        "    #Armazenando na variável entrada_para_organizacao o que for digitado pelo usuário para localização e os projetos encontrados\n",
        "    entrada_para_organizacao = f\"Localização: {localizacao}\\n Projetos: {projetos_achados}\"\n",
        "\n",
        "    #Armazena na variável projetos_organizados a resposta da IA depois de receber a localização e os projetos do agente anterior\n",
        "    projetos_organizados = call_agent(organizador, entrada_para_organizacao)\n",
        "    #Retorna o valor obtido na variável\n",
        "    return projetos_organizados"
      ],
      "metadata": {
        "id": "0a4_dlgNG0E4"
      },
      "execution_count": null,
      "outputs": []
    },
    {
      "cell_type": "code",
      "source": [
        "#Importanto a biblioteca pandas e atribuindo o nome pd a ela. Ela serve para manipular e analisar dados. Vamos usá-la para gerar um csv com os projetos sociais.\n",
        "import pandas as pd\n",
        "from google.colab import files\n",
        "\n",
        "\n",
        "# --- Agente 3: Criação de arquivos CSV --- #\n",
        "# Criando o terceiro Agent chamado analista_social, que espera receber 2 parametros: Localização e Projetos Organizados (vindo do agente anterior)\n",
        "def analista_social(localizacao, projetos_organizados):\n",
        "\n",
        "    # Atribui à variável analista, o objeto agente com os parametros nome, modelo de IA, descrição, ferramentas e instrução.\n",
        "    analista = Agent(\n",
        "        name=\"analista_social\",\n",
        "        model=\"gemini-2.0-flash\",\n",
        "        description=\"Analisa e cria arquivos csv ou xlsx para usuário final\",\n",
        "        tools=[google_search],\n",
        "        instruction=\"\"\"Você é um analista social e sua função é prover um arquivo csv para o usuário final com os projetos organizados.\n",
        "        Sua resposta DEVE ser formatada EXATAMENTE como o conteúdo de um arquivo CSV.\n",
        "        Inclua uma linha de cabeçalho com os nomes das colunas (por exemplo: Título,Descrição,Área Social, Público, Telefone de Contato).\n",
        "        Você também deve separar no arquivo projetos que estão acontecendo e projetos que podem ser criados.\n",
        "        Cada linha subsequente deve representar um projeto, com os detalhes separados por vírgulas, na mesma ordem do cabeçalho.\n",
        "        Não inclua nenhum texto adicional antes ou depois do conteúdo CSV.\n",
        "        \"\"\"\n",
        "    )\n",
        "\n",
        "    # Armazenando na variável entrada_para_organizacao o que for digitado pelo usuário para localização e os projetos encontrados\n",
        "    entrada_para_criacao = f\"Localização: {localizacao}\\n Projetos: {projetos_organizados}\"\n",
        "\n",
        "    # Armazena na variável criacao_arquivo_csv_content a resposta da IA formatada como CSV\n",
        "    criacao_arquivo_csv_content = call_agent(analista, entrada_para_criacao)\n",
        "\n",
        "    # Imprime a string retornada para depuração (opcional)\n",
        "    print(\"Conteúdo CSV retornado pelo agente:\")\n",
        "    print(criacao_arquivo_csv_content)\n",
        "\n",
        "    # --- Definir o nome do arquivo ---\n",
        "    nome_arquivo = f\"projetos_sociais_{localizacao}.csv\"\n",
        "\n",
        "    # --- Escrever o conteúdo CSV em um arquivo ---\n",
        "    try:\n",
        "        with open(nome_arquivo, 'w', encoding='utf-8') as f:\n",
        "            f.write(criacao_arquivo_csv_content)\n",
        "    except Exception as e:\n",
        "        return f\"Ocorreu um erro ao escrever o arquivo: {e}\"\n",
        "\n",
        "    # --- Disponibilizar o arquivo para download ---\n",
        "    try:\n",
        "        files.download(nome_arquivo)\n",
        "        return f\"Arquivo '{nome_arquivo}' criado e disponível para download.\"\n",
        "    except Exception as e:\n",
        "        return f\"Ocorreu um erro ao baixar o arquivo: {e}\""
      ],
      "metadata": {
        "id": "V9YFmEGrJ21i"
      },
      "execution_count": null,
      "outputs": []
    },
    {
      "cell_type": "code",
      "source": [
        "#Obtém a data da execução e armazena na variável data_de_hoje\n",
        "data_de_hoje = date.today().strftime(\"%d/%m/%Y\")\n",
        "\n",
        "print(\"🚀 Bem-Vindo ao Assistente Social! 🚀\")\n",
        "\n",
        "# --- Obter a localização do Usuário ---\n",
        "localizacao = input(\"❓ Por favor, digite sua localização: \")\n",
        "\n",
        "# Inserir lógica do sistema de agentes ################################################\n",
        "\n",
        "projetos_achados = pesquisador_social(localizacao, data_de_hoje)\n",
        "print('\\n--- Projetos Disponíveis ---\\n')\n",
        "display(to_markdown(projetos_achados))\n",
        "print('-------------------------------------------------')\n",
        "\n",
        "organizacao_projetos = organizador_social(localizacao, projetos_achados)\n",
        "print('\\n--- Projetos Organizados ---\\n')\n",
        "display(to_markdown(organizacao_projetos))\n",
        "print('-------------------------------------------------')\n",
        "\n",
        "criacao_arquivo = analista_social(localizacao, organizacao_projetos)\n",
        "print('\\n--- Arquivo Criado ---\\n')\n",
        "display(to_markdown(criacao_arquivo))\n",
        "print('-------------------------------------------------')"
      ],
      "metadata": {
        "id": "sZkbc8zGFwdz"
      },
      "execution_count": null,
      "outputs": []
    }
  ]
}